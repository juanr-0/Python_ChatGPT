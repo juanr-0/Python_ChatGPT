{
  "nbformat": 4,
  "nbformat_minor": 0,
  "metadata": {
    "colab": {
      "provenance": []
    },
    "kernelspec": {
      "name": "python3",
      "display_name": "Python 3"
    },
    "language_info": {
      "name": "python"
    }
  },
  "cells": [
    {
      "cell_type": "code",
      "execution_count": null,
      "metadata": {
        "id": "FFapIjaj0qpr"
      },
      "outputs": [],
      "source": [
        "!pip install openai #instalando a biblioteca e instalando pacotes"
      ]
    },
    {
      "cell_type": "code",
      "source": [
        "import openai"
      ],
      "metadata": {
        "id": "EXb4cbCg0w2B"
      },
      "execution_count": 3,
      "outputs": []
    },
    {
      "cell_type": "code",
      "source": [
        "openai.api_key = \"SUA_CHAVE_API\" #sua chave da API"
      ],
      "metadata": {
        "id": "SWtQEaBH032f"
      },
      "execution_count": 7,
      "outputs": []
    },
    {
      "cell_type": "code",
      "source": [
        "model_engine = \"text-davinci-003\" #modelo utilizado\n",
        "prompt = input() #pergunta a ser feita"
      ],
      "metadata": {
        "id": "wyFSo6P41BXJ"
      },
      "execution_count": null,
      "outputs": []
    },
    {
      "cell_type": "code",
      "source": [
        "completion = openai.Completion.create( # completion é um termo usado para OpenAI que define a comunicação com a API da linguagem\n",
        "    engine= model_engine,\n",
        "    prompt = prompt,\n",
        "    max_tokens = 1024, #tamanho máximo da resposta\n",
        "    n=1, #quantidade de respostas\n",
        "    stop= None, #regras para parar\n",
        "    temperature = 0.5, # parametro de aleatoriedade das respostas\n",
        ")"
      ],
      "metadata": {
        "id": "EdWbp12-1iD5"
      },
      "execution_count": 17,
      "outputs": []
    },
    {
      "cell_type": "code",
      "source": [
        "response = completion.choices[0].text # matriz da qual pegamos o primeiro elemento\n",
        "print(response)"
      ],
      "metadata": {
        "colab": {
          "base_uri": "https://localhost:8080/"
        },
        "id": "7P7MelZr3dzE",
        "outputId": "3d623f77-e796-4567-be0a-6d7b409e831c"
      },
      "execution_count": 18,
      "outputs": [
        {
          "output_type": "stream",
          "name": "stdout",
          "text": [
            "\n",
            "\n",
            "That depends on your interests and preferences. Some popular RPG games include The Elder Scrolls V: Skyrim, Fallout 4, Mass Effect, Witcher 3, Dragon Age: Inquisition, Dark Souls, and Final Fantasy XV.\n"
          ]
        }
      ]
    },
    {
      "cell_type": "code",
      "source": [],
      "metadata": {
        "id": "zgjdg-Va4f8k"
      },
      "execution_count": null,
      "outputs": []
    }
  ]
}